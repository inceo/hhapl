{
 "cells": [
  {
   "cell_type": "code",
   "execution_count": 2,
   "id": "b51064bc-ec8a-4f39-9b0b-96e88fbe752a",
   "metadata": {},
   "outputs": [],
   "source": [
    "from hhapl import plots"
   ]
  },
  {
   "cell_type": "code",
   "execution_count": 3,
   "id": "9d2f5cfb-119c-4675-a1d5-94b273a88157",
   "metadata": {},
   "outputs": [],
   "source": [
    "phh = plots.Plot()"
   ]
  },
  {
   "cell_type": "markdown",
   "id": "42a72032-8a97-4723-a4b7-b9e951732f25",
   "metadata": {},
   "source": [
    "# $Na^+$ Inactivation\n",
    "\n",
    "This figure also indicates an important property of the voltage-dependent Na+ channels. Note that the permeability increases rapidly and then, despite the fact that the membrane potential is clamped, the permeability decays back to its initial level. This phenomenon is called inactivation. The Na+ channels begin to close, even in the continued presence of the depolarization. Inactivation contributes to the repolarization of the action potential. However, inactivation is not enough by itself to account fully for the repolarization. "
   ]
  },
  {
   "cell_type": "code",
   "execution_count": 4,
   "id": "16eb13c0-6ca1-484a-8990-6df4d681fd08",
   "metadata": {},
   "outputs": [
    {
     "data": {
      "application/vnd.jupyter.widget-view+json": {
       "model_id": "82d7f8c484624b8099e5ffba2df41281",
       "version_major": 2,
       "version_minor": 0
      },
      "text/plain": [
       "VBox(children=(Button(description='20 mV', style=ButtonStyle()), Button(description='40 mV', style=ButtonStyle…"
      ]
     },
     "metadata": {},
     "output_type": "display_data"
    }
   ],
   "source": [
    "phh.plot_Na()"
   ]
  },
  {
   "cell_type": "markdown",
   "id": "8884d6d2-5175-454d-a16f-591545ae3c97",
   "metadata": {},
   "source": [
    "# Voltage-Dependent $K^+$ Conductance\n",
    "\n",
    "In addition to voltage-dependent changes in Na+ permeability, there are voltage-dependent changes in K+ permeability. These changes can be measured with the voltage-clamp technique as well. The figure shown to above indicates the changes in K+ conductance as well as the Na+ conductance. There are two important points.\n",
    "\n",
    "First, just as there are channels in the membrane that are permeable to Na+ that are normally closed but then open in response to a voltage, there are also channels in the membrane that are selectively permeable to K+. These K+ channels are normally closed, but open in response to depolarization.\n",
    "\n",
    "Second, a major difference between the changes in the K+ channels and the changes in the Na+ channels is that the K+ channels are slower to activate or open. (Some K+ channels also do not inactivate.)  Note that the return of the conductance at the end of the pulse is not the process of inactivation.  With the removal of the pulse, the activated channels are deactivated."
   ]
  },
  {
   "cell_type": "code",
   "execution_count": 6,
   "id": "f4652696-4d68-465b-9178-2b2f941c9153",
   "metadata": {},
   "outputs": [
    {
     "data": {
      "application/vnd.jupyter.widget-view+json": {
       "model_id": "8ee807a88a0544b28e18e28e51998a22",
       "version_major": 2,
       "version_minor": 0
      },
      "text/plain": [
       "VBox(children=(Button(description='20 mV', style=ButtonStyle()), Button(description='40 mV', style=ButtonStyle…"
      ]
     },
     "metadata": {},
     "output_type": "display_data"
    }
   ],
   "source": [
    "phh.plot_K()"
   ]
  },
  {
   "cell_type": "markdown",
   "id": "45806ed0-d9f8-4abf-8ec7-f9cca656f511",
   "metadata": {},
   "source": [
    "# Putting it together: Action Potential\n",
    "\n",
    "Some initial depolarization (e.g., a synaptic potential) will begin to open the Na+ channels. The increase in the Na+ influx leads to a further depolarization."
   ]
  },
  {
   "cell_type": "code",
   "execution_count": 7,
   "id": "696d269e-c4e0-47b1-a762-3885ae1454ad",
   "metadata": {},
   "outputs": [
    {
     "data": {
      "application/vnd.jupyter.widget-view+json": {
       "model_id": "887d0de2fb0a4da489bcba5dae5a1267",
       "version_major": 2,
       "version_minor": 0
      },
      "text/plain": [
       "VBox(children=(Button(description='-50 mV', style=ButtonStyle()), Button(description='10 mV', style=ButtonStyl…"
      ]
     },
     "metadata": {},
     "output_type": "display_data"
    }
   ],
   "source": [
    "phh.plot_AP()"
   ]
  },
  {
   "cell_type": "markdown",
   "id": "01d7cbe4-58e7-426b-a728-e6dbf3c545a0",
   "metadata": {},
   "source": [
    "# Checking our understanding: Inactivation of ion channels\n",
    "\n",
    "Some chemical agents can selectively block voltage-dependent membrane channels. Tetrodotoxin (TTX), which comes from the Japanese puffer fish, blocks the voltage-dependent changes in Na+ permeability, but has no effect on the voltage-dependent changes in K+ permeability. This observation indicates that the Na+ and K+ channels are unique; one of these can be selectively blocked and not affect the other. Another agent, tetraethylammonium (TEA), has no effect on the voltage-dependent changes in Na+ permeability, but it completely abolishes the voltage-dependent changes in K+ permeability. "
   ]
  },
  {
   "cell_type": "code",
   "execution_count": 8,
   "id": "326e2543-19b2-4e49-839d-e4a0ce6cc2e5",
   "metadata": {},
   "outputs": [
    {
     "data": {
      "application/vnd.jupyter.widget-view+json": {
       "model_id": "4841efee738d4dfbaac51e214a2f05c4",
       "version_major": 2,
       "version_minor": 0
      },
      "text/plain": [
       "VBox(children=(Dropdown(description='Select:', options=('Tetrodotoxin (TTX)', 'Tetraethylammonium (TEA)'), val…"
      ]
     },
     "metadata": {},
     "output_type": "display_data"
    }
   ],
   "source": [
    "phh.plot_AP_TTX_TEA()"
   ]
  },
  {
   "cell_type": "markdown",
   "id": "82db940b-6cdb-4701-9853-07ef712ab665",
   "metadata": {},
   "source": [
    "# Absolute and Relative Refractory Periods\n",
    "\n",
    "The __absolute refractory period__ is a period of time after the initiation of one action potential when it is impossible to initiate a second action potential no matter how much the cell is depolarized. The __relative refractory period__ is a period after one action potential is initiated when it is possible to initiate a second action potential, but only with a greater depolarization than was necessary to initiate the first. The relative refractory period can be understood at least in part by the hyperpolarizing afterpotential. Assume that an initial stimulus depolarized a cell from -60 mV to -45 mV in order to reach threshold and then consider delivering the same 15-mV stimulus sometime during the after-hyperpolarization. The stimulus would again depolarize the cell but the depolarization would be below threshold and insufficient to trigger an action potential. If the stimulus was made larger, however, such that it again was capable of depolarizing the cell to threshold (-45 mV), an action potential could be initiated. "
   ]
  },
  {
   "cell_type": "code",
   "execution_count": 5,
   "id": "7a1db9e2-3b68-4028-8897-6fd2c4a63e17",
   "metadata": {},
   "outputs": [
    {
     "data": {
      "application/vnd.jupyter.widget-view+json": {
       "model_id": "ae87445d4e154080927ce19bd65e50b6",
       "version_major": 2,
       "version_minor": 0
      },
      "text/plain": [
       "VBox(children=(Button(description='15 mV', style=ButtonStyle()), Figure(axes=[Axis(label='Time (ms)', scale=Li…"
      ]
     },
     "metadata": {},
     "output_type": "display_data"
    }
   ],
   "source": [
    "phh.plot_refractory()"
   ]
  },
  {
   "cell_type": "markdown",
   "id": "d124a3bf-c527-4978-9e18-27971676945a",
   "metadata": {},
   "source": [
    "# Parameter influence on action potentials in the Hodgkin–Huxley model\n",
    "\n",
    "Text"
   ]
  },
  {
   "cell_type": "markdown",
   "id": "e010a7bc-8f61-4400-9f04-64dc319fd04c",
   "metadata": {},
   "source": [
    "<details>\n",
    "    <summary>Click once on <font color=\"red\"><b>this text</b></font> to hide/unhide the answer!</summary>\n",
    "  \n",
    "  ### Answer\n",
    "  The answer is the arrow thingy...\n",
    "</details>"
   ]
  },
  {
   "cell_type": "code",
   "execution_count": 10,
   "id": "fa4915ba-76c8-48a3-97fe-5f0ac02f5ffa",
   "metadata": {},
   "outputs": [
    {
     "data": {
      "application/vnd.jupyter.widget-view+json": {
       "model_id": "ef32f5f18f3b4ec98827d4b53da26be5",
       "version_major": 2,
       "version_minor": 0
      },
      "text/plain": [
       "VBox(children=(BoundedIntText(value=120, description='gNa:', max=170, min=70), BoundedIntText(value=36, descri…"
      ]
     },
     "metadata": {},
     "output_type": "display_data"
    }
   ],
   "source": [
    "phh.plot_explorer()"
   ]
  },
  {
   "cell_type": "code",
   "execution_count": null,
   "id": "b9a3732b-ae1b-4c4f-a296-a250c370c91c",
   "metadata": {},
   "outputs": [],
   "source": []
  }
 ],
 "metadata": {
  "kernelspec": {
   "display_name": "Python 3 (ipykernel)",
   "language": "python",
   "name": "python3"
  },
  "language_info": {
   "codemirror_mode": {
    "name": "ipython",
    "version": 3
   },
   "file_extension": ".py",
   "mimetype": "text/x-python",
   "name": "python",
   "nbconvert_exporter": "python",
   "pygments_lexer": "ipython3",
   "version": "3.10.5"
  }
 },
 "nbformat": 4,
 "nbformat_minor": 5
}
