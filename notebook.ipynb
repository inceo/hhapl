{
 "cells": [
  {
   "cell_type": "code",
   "execution_count": 1,
   "id": "b51064bc-ec8a-4f39-9b0b-96e88fbe752a",
   "metadata": {},
   "outputs": [],
   "source": [
    "from hhapl import plots"
   ]
  },
  {
   "cell_type": "code",
   "execution_count": 2,
   "id": "9d2f5cfb-119c-4675-a1d5-94b273a88157",
   "metadata": {},
   "outputs": [],
   "source": [
    "phh = plots.Plots()"
   ]
  },
  {
   "cell_type": "markdown",
   "id": "2a9c774e-29f7-4711-84cc-f85dba9f3e7c",
   "metadata": {},
   "source": [
    "<img align=\"right\" width=\"10%\" height=\"10%\" src=\"https://upload.wikimedia.org/wikipedia/commons/c/c7/Andrew_Fielding_Huxley_nobel.jpg\" alt=\"Andrew Huxley\">\n",
    "<img align=\"right\" width=\"10%\" height=\"10%\" src=\"https://upload.wikimedia.org/wikipedia/commons/0/07/Alan_Lloyd_Hodgkin_nobel.jpg\" alt=\"Andrew Huxley\">\n",
    "\n",
    "# [Hodgkin-Huxley action potential lab](http://inceo.github.com/hhapl)\n",
    "\n",
    "Educational web application for the purpose of learning how action potentials are initiated based on the Hodgkins and Huxley model.\n",
    "\n",
    "The following plots are generate 'on the fly' based on the choosen inputs. The calculations behind this follow the famous Hodgkins and Huxley model. In 1952 __Alan Hodgkin__ and __Andrew Huxley__ formulated the model to explain the ionic mechanisms underlying the initiation of action potentials in neurons. They received the Nobel Prize in Physiology or Medicine for this work (1963).\n",
    "\n",
    "This application was developed as a term project for the Scientific Python course (summer '22) of the Cognitive Science program at Osnabrück University by Christian Rohde."
   ]
  },
  {
   "cell_type": "markdown",
   "id": "978ff2cf-ccf9-4242-a436-75ab060a7137",
   "metadata": {},
   "source": [
    "## Background \n",
    "\n",
    "We won't go into the details of the Hodgkins and Huxley model since page is intended to demonstrate the basic ionic mechanisms underlying the initiation of action potentials. Nevertheless it serves as a mathematical backbone through the course of this page.\n",
    "\n",
    "The model behind is a set of differential equation:\n",
    "\n",
    "$I = C_m\\frac{{\\mathrm d} V_m}{{\\mathrm d} t}  + g_K(V_m - V_K) + g_{Na}(V_m - V_{Na}) + g_l(V_m - V_l)$\n",
    " \n",
    "where $I$ is the total membrane current, $C_m$ the membrane capacitance, $g_K$ and $g_{Na}$ the potassium and sodium conductances and $V_K$, $V_{Na}$ the reversal potentials. Moverover, we have the leak conductance and leak reversal potential, domnated with $L$.\n",
    "\n",
    "The Hodgkin and Huxley model is described by a set of four ordinary differential equations:\n",
    "\n",
    "$I = C_m\\frac{{\\mathrm d} V_m}{{\\mathrm d} t}  + \\bar{g}_\\text{K}n^4(V_m - V_K) + \\bar{g}_\\text{Na}m^3h(V_m - V_{Na}) + \\bar{g}_l(V_m - V_l)$\n",
    "\n",
    "$\\frac{dn}{dt} = \\alpha_n(V_m)(1 - n) - \\beta_n(V_m) n$\n",
    "\n",
    "$\\frac{dm}{dt} = \\alpha_m(V_m)(1 - m)  - \\beta_m(V_m) m$\n",
    "\n",
    "$\\frac{dh}{dt} = \\alpha_h(V_m)(1 - h) - \\beta_h(V_m) h$"
   ]
  },
  {
   "cell_type": "markdown",
   "id": "42a72032-8a97-4723-a4b7-b9e951732f25",
   "metadata": {},
   "source": [
    "## $Na^+$ Inactivation\n",
    "\n",
    "In this figure, we see an important property of the voltage-dependent Na+ channels: First, the permeability increases rapidly. Although the membrane potential is clamped, the permeability decreases at a certain point, the Na+ channels get inactivated. Inactivation contributes to the repolarization of the action potential. However, inactivation is not enough by itself to account fully for the repolarization."
   ]
  },
  {
   "cell_type": "code",
   "execution_count": 3,
   "id": "16eb13c0-6ca1-484a-8990-6df4d681fd08",
   "metadata": {},
   "outputs": [
    {
     "data": {
      "application/vnd.jupyter.widget-view+json": {
       "model_id": "c0b2c86de3c6479db2121e1d48c322e8",
       "version_major": 2,
       "version_minor": 0
      },
      "text/plain": [
       "VBox(children=(Button(description='20 mV', style=ButtonStyle()), Button(description='40 mV', style=ButtonStyle…"
      ]
     },
     "metadata": {},
     "output_type": "display_data"
    }
   ],
   "source": [
    "phh.plot_Na()"
   ]
  },
  {
   "cell_type": "markdown",
   "id": "8884d6d2-5175-454d-a16f-591545ae3c97",
   "metadata": {},
   "source": [
    "## Voltage-Dependent $K^+$ Conductance\n",
    "\n",
    "In addition to voltage-dependent to the Na+ channels, the lipid bilayer has also voltage-dependent K+ channels. These K+ channels are normally closed, but open in response to depolarization. K+ channels open slower than Na+ channels. Here, we do not observe inactivation, but a decrease with the membrane voltage."
   ]
  },
  {
   "cell_type": "code",
   "execution_count": 4,
   "id": "f4652696-4d68-465b-9178-2b2f941c9153",
   "metadata": {},
   "outputs": [
    {
     "data": {
      "application/vnd.jupyter.widget-view+json": {
       "model_id": "6b6110bb9f5e4247ad3ccf85eaab89bf",
       "version_major": 2,
       "version_minor": 0
      },
      "text/plain": [
       "VBox(children=(Button(description='20 mV', style=ButtonStyle()), Button(description='40 mV', style=ButtonStyle…"
      ]
     },
     "metadata": {},
     "output_type": "display_data"
    }
   ],
   "source": [
    "phh.plot_K()"
   ]
  },
  {
   "cell_type": "markdown",
   "id": "45806ed0-d9f8-4abf-8ec7-f9cca656f511",
   "metadata": {},
   "source": [
    "## Putting it together: Action Potential\n",
    "\n",
    "Na+ channels open at the beginning of the action potential, causing depolarization. The increase in the Na+ influx leads to a further depolarization. Repolarization occurs when the K+ channels open, resuling in a change in electric polarity between the outside of the cell and the inside. Than there is a overshoot called hyperpolarization, when the membrane potential becomes more negative than at resting state. This inhibits action potentials by increasing the stimulus required to move the membrane potential to the action potential threshold (refractory period).\n",
    "\n",
    "__Question:__ Can you imagine what a rebound potential might be?"
   ]
  },
  {
   "cell_type": "markdown",
   "id": "3efde372-00b9-40f0-b0c7-33a6e5acdb79",
   "metadata": {},
   "source": [
    "<details>\n",
    "    <summary>Click once <font color=\"red\"><b>here</b></font> to get a hint.</summary>\n",
    "  \n",
    "    Set the injected current way negative to initiate a rebound potential.\n",
    "</details>"
   ]
  },
  {
   "cell_type": "code",
   "execution_count": 5,
   "id": "696d269e-c4e0-47b1-a762-3885ae1454ad",
   "metadata": {},
   "outputs": [
    {
     "data": {
      "application/vnd.jupyter.widget-view+json": {
       "model_id": "eb54bb30ac8a44e593b425cf0c92752e",
       "version_major": 2,
       "version_minor": 0
      },
      "text/plain": [
       "VBox(children=(Button(description='5 mV', style=ButtonStyle()), Button(description='15 mV', style=ButtonStyle(…"
      ]
     },
     "metadata": {},
     "output_type": "display_data"
    }
   ],
   "source": [
    "phh.plot_AP()"
   ]
  },
  {
   "cell_type": "markdown",
   "id": "01d7cbe4-58e7-426b-a728-e6dbf3c545a0",
   "metadata": {},
   "source": [
    "## Checking our understanding: Inactivation of ion channels\n",
    "\n",
    "There are chemical agents that can selectively block voltage-dependent membrane channels. Tetrodotoxin (TTX) blocks the voltage-dependent changes in Na+ permeability, and tetraethylammonium (TEA) completely blocks the voltage-dependent changes in K+ permeability.\n",
    "\n",
    "__Task:__ Try to imagine the influence of those chemical on the initiation of an action potential before trying it out."
   ]
  },
  {
   "cell_type": "code",
   "execution_count": 6,
   "id": "326e2543-19b2-4e49-839d-e4a0ce6cc2e5",
   "metadata": {},
   "outputs": [
    {
     "data": {
      "application/vnd.jupyter.widget-view+json": {
       "model_id": "7637ab109508460b807915562ebf24de",
       "version_major": 2,
       "version_minor": 0
      },
      "text/plain": [
       "VBox(children=(Dropdown(description='Select:', options=('Tetrodotoxin (TTX)', 'Tetraethylammonium (TEA)'), val…"
      ]
     },
     "metadata": {},
     "output_type": "display_data"
    }
   ],
   "source": [
    "phh.plot_AP_TTX_TEA()"
   ]
  },
  {
   "cell_type": "markdown",
   "id": "82db940b-6cdb-4701-9853-07ef712ab665",
   "metadata": {},
   "source": [
    "## Absolute and Relative Refractory Periods\n",
    "\n",
    "We have already seen what hyperpolarisation means. It is closely connected the to refractory period. The __absolute refractory period__ is a period of time after the initiation of one action potential when it is impossible to initiate a second action potential no matter how much the cell is depolarized. The __relative refractory period__ is a period after one action potential is initiated when it is possible to initiate a second action potential, but only with a greater depolarization than was necessary to initiate the first. The relative refractory period can be understood at least in part by the hyperpolarizing afterpotential.\n",
    "\n",
    "__Task:__ By marking an interval in the figure below (click into image, hold and release), try to create on example for the absolute and relative refractory period."
   ]
  },
  {
   "cell_type": "markdown",
   "id": "f4932826-4c9c-497e-b8c6-d4292a7ac44e",
   "metadata": {
    "tags": []
   },
   "source": [
    "<details>\n",
    "    <summary>Click once <font color=\"red\"><b>here</b></font> to get a hint.</summary>\n",
    "  \n",
    "    Absolute refractory period: until 7 ms\n",
    "    Relative refractory period: from 8 ms\n",
    "    (both at 50 mV)\n",
    "</details>"
   ]
  },
  {
   "cell_type": "code",
   "execution_count": 7,
   "id": "7a1db9e2-3b68-4028-8897-6fd2c4a63e17",
   "metadata": {
    "tags": []
   },
   "outputs": [
    {
     "data": {
      "application/vnd.jupyter.widget-view+json": {
       "model_id": "23e7cbd238e642c7b6dc3bea74ce2c23",
       "version_major": 2,
       "version_minor": 0
      },
      "text/plain": [
       "VBox(children=(HBox(children=(IntSlider(value=50, min=1), Button(description='mV', style=ButtonStyle()))), Fig…"
      ]
     },
     "metadata": {},
     "output_type": "display_data"
    }
   ],
   "source": [
    "phh.plot_refractory()"
   ]
  },
  {
   "cell_type": "markdown",
   "id": "df1cb781-ccf2-41f5-a830-9e8272547d63",
   "metadata": {},
   "source": [
    "## Spike trains\n",
    "\n",
    "A spike train is a sequence of recorded times at which a neuron fires an action potential.\n",
    "\n",
    "You can mark an interval in the figure below (click into image, hold and release) and choose a injected current. This time the interval marks not two idividual impules but a constant one."
   ]
  },
  {
   "cell_type": "code",
   "execution_count": 8,
   "id": "90464088-f386-4b3d-8bf6-eb0ea56f26f6",
   "metadata": {},
   "outputs": [
    {
     "data": {
      "application/vnd.jupyter.widget-view+json": {
       "model_id": "6fee2dcc750a4c3ea4cb7a141059f4dd",
       "version_major": 2,
       "version_minor": 0
      },
      "text/plain": [
       "VBox(children=(HBox(children=(IntSlider(value=50, min=1), Button(description='mV', style=ButtonStyle()))), Fig…"
      ]
     },
     "metadata": {},
     "output_type": "display_data"
    }
   ],
   "source": [
    "phh.plot_spike_train()"
   ]
  },
  {
   "cell_type": "markdown",
   "id": "d124a3bf-c527-4978-9e18-27971676945a",
   "metadata": {
    "tags": []
   },
   "source": [
    "## Parameter influence on action potentials in the Hodgkin–Huxley model\n",
    "\n",
    "To get an idea of the parameters involved, you can play around a bit. Note that this is only meant to give an idea, for the calculations to be exact, we would have to control a lot more parameters. To reduce the parameter space, we hold to injected current constant with 50 mV at 5ms."
   ]
  },
  {
   "cell_type": "code",
   "execution_count": 9,
   "id": "fa4915ba-76c8-48a3-97fe-5f0ac02f5ffa",
   "metadata": {},
   "outputs": [
    {
     "data": {
      "application/vnd.jupyter.widget-view+json": {
       "model_id": "f56abb6e94b747c3805acf80a59611b3",
       "version_major": 2,
       "version_minor": 0
      },
      "text/plain": [
       "VBox(children=(BoundedIntText(value=120, description='Sodium conductance:', max=150, min=90, step=10), Bounded…"
      ]
     },
     "metadata": {},
     "output_type": "display_data"
    }
   ],
   "source": [
    "phh.plot_explorer()"
   ]
  }
 ],
 "metadata": {
  "kernelspec": {
   "display_name": "Python 3 (ipykernel)",
   "language": "python",
   "name": "python3"
  },
  "language_info": {
   "codemirror_mode": {
    "name": "ipython",
    "version": 3
   },
   "file_extension": ".py",
   "mimetype": "text/x-python",
   "name": "python",
   "nbconvert_exporter": "python",
   "pygments_lexer": "ipython3",
   "version": "3.10.5"
  }
 },
 "nbformat": 4,
 "nbformat_minor": 5
}
